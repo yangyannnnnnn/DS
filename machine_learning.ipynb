{
 "cells": [
  {
   "cell_type": "markdown",
   "metadata": {},
   "source": [
    "### Machine Learning - linear regression\n",
    "### y_hat=a0+a1*x\n",
    "### a1= (sum(x-x_avg)(y-y_avg))/(sum(x-x_avg)^2), a0=y_avg-a1*x_avg"
   ]
  }
 ],
 "metadata": {
  "language_info": {
   "name": "python"
  }
 },
 "nbformat": 4,
 "nbformat_minor": 2
}
